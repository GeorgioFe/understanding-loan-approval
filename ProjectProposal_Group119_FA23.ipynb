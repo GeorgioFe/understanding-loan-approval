{
 "cells": [
  {
   "cell_type": "markdown",
   "metadata": {},
   "source": [
    "# COGS 108 - Project Proposal"
   ]
  },
  {
   "cell_type": "markdown",
   "metadata": {},
   "source": [
    "# Names\n",
    "\n",
    "- Joseph Lee\n",
    "- Kenneth Song\n",
    "- Georgio Feghali\n",
    "- Lorenzo Ramos\n",
    "- Sujay Talanki"
   ]
  },
  {
   "cell_type": "markdown",
   "metadata": {},
   "source": [
    "# Research Question"
   ]
  },
  {
   "cell_type": "markdown",
   "metadata": {},
   "source": [
    "Is there a relationship between an applicant’s credit history and loan approval status in America?\n"
   ]
  },
  {
   "cell_type": "markdown",
   "metadata": {},
   "source": [
    "## Background and Prior Work"
   ]
  },
  {
   "cell_type": "markdown",
   "metadata": {},
   "source": [
    "Banks that give out loans need to make sure that they will get a return on their investment (they need to make sure that the borrower will be able to repay the money with the interest). Thus, it would be trivial to think that certain aspects of an applicant's credit history could play a factor when banks are deciding on when to give loans. Could we tune a machine learning model to accurately predict whether or not an applicant will receive a loan? This is the topic we are interested in! \n",
    "\n",
    "There have been a few projects that have explored the issue using various machine learning algorithms. “How to predict Loan Eligibility using Machine Learning Models”<a name=\"cite_ref-1\"></a>[<sup>1</sup>](#cite_note-1) uses a few different machine learning models to predict loan eligibility using some background information. This topic is different from ours, as our dataset will be different and the features are different. “Loan Prediction Problem from Scratch to End”<a name=\"cite_ref-2\"></a>[<sup>2</sup>](#cite_note-2) uses logistic regression, decision tree, and random forest classifiers to predict loan eligibility from certain features of an applicant. It is the same dataset as linked above, but uses different metrics and methods to build their model. Our models will be different because we will use in-depth hyperparameter tuning or potentially neural networks to build our model. These are topics likely not discussed in class, but we would like to explore them if possible.\n",
    "\n",
    "“How does my Credit Score Affect my Loan Chances?”<a name=\"cite_ref-3\"></a>[<sup>3</sup>](#cite_note-2) talks about the potential features that could affect an applicant's chances at a loan approval. They talk about how FICO score, income, employment status, debt, and other attributes of an applicant's financial status could affect the chances at loan approval.\n",
    "\n",
    "1. <a name=\"cite_note-1\"></a> [^](#cite_ref-1) https://towardsdatascience.com/predict-loan-eligibility-using-machine-learning-models-7a14ef904057#:~:text=Applicants%20who%20have%20repaid%20their,the%20chances%20of%20loan%20approval. \n",
    "\n",
    "“How to predict Loan Eligibility using Machine Learning Models”\n",
    "\n",
    "2. <a name=\"cite_note-2\"></a> [^](#cite_ref-2) https://www.analyticsvidhya.com/blog/2022/05/loan-prediction-problem-from-scratch-to-end/\n",
    "\n",
    "“How to predict Loan Eligibility using Machine Learning Models”\n",
    "\n",
    "3. <a name=\"cite_note-3\"></a> [^](#cite_ref-3) https://www.bankrate.com/loans/personal-loans/how-does-credit-score-affect-loan-chances/ \n",
    "\n",
    "“How does my Credit Score Affect my Loan Chances?”\n",
    "\n"
   ]
  },
  {
   "cell_type": "markdown",
   "metadata": {},
   "source": [
    "# Hypothesis\n"
   ]
  },
  {
   "cell_type": "markdown",
   "metadata": {},
   "source": [
    "\n",
    "We hypothesize that there is a strong positive relationship between an applicant's credit history and loan approval status in America. Specifically, we expect that applicants with a good credit history, characterized by a high credit score and a history of timely payments, are more likely to have their loan applications approved. Conversely, applicants with poor or no credit history may face a higher likelihood of loan rejection.\n",
    "\n",
    "\n",
    "Our hypothesis is based on the common industry understanding that credit history is a critical factor in determining a borrower's creditworthiness. Lenders use credit scores and payment history as indicators of an applicant's ability and willingness to repay loans. Applicants with a favorable credit history are seen as lower-risk borrowers, making them more likely to secure loan approvals. Conversely, those with poor or no credit history may pose higher risks to lenders, leading to a higher likelihood of loan rejections. We believe that the analysis of a substantial dataset will confirm this hypothesis and provide insights into the relationship between credit history and loan approval status in America.\n"
   ]
  },
  {
   "cell_type": "markdown",
   "metadata": {},
   "source": [
    "# Data"
   ]
  },
  {
   "cell_type": "markdown",
   "metadata": {},
   "source": [
    "\n",
    "The ideal dataset that we would want in order to answer our question would be one that revolves around loan approvals.  \n",
    "The main variables that we are looking for are:\n",
    "\n",
    " - Applicant/Loan Identifier (str) \n",
    " - Income (int/float) \n",
    " - Loan Amount (int/float) \n",
    " - Loan Term and Interest Rates (int) \n",
    " - Loan Approval (bool) \n",
    " - Credit History (bool) \n",
    " - Loan Type (string) \n",
    "\n",
    "Some other variables that aren’t necessarily needed but could be helpful are:\n",
    "\n",
    " - Gender (str) \n",
    " - Age (int) \n",
    " - Marital Status (bool) \n",
    " - Number of dependents (int) \n",
    " - Cosigner(s) (bool) \n",
    "\n",
    " Observations: the more the better (but at least 300) \n",
    " Data Collection \n",
    "- Lenders \n",
    "- Financial Institutions \n",
    "- Credit Bureaus \n",
    "- Government Agencies \n",
    " Data Storage \n",
    " - Data will be stored in a dataset? (.csv preferably) \n",
    " - Each row represents applicant or loan \n",
    " - Anonymized for data privacy (more on ethics) \n",
    " - Organized in such a way that allows ease of retrieval, filtering and analysis \n",
    " - Could use relational database \n",
    "\n",
    "https://www.kaggle.com/datasets/granjithkumar/loan-approval-data-set \n"
   ]
  },
  {
   "cell_type": "markdown",
   "metadata": {},
   "source": [
    "# Ethics & Privacy"
   ]
  },
  {
   "cell_type": "markdown",
   "metadata": {},
   "source": [
    "\n",
    "The datasets we acquired were from Kaggle, which is a publicly available data set for fair use. The privacy of individuals were kept and so privacy concerns do not apply to our project. The participants’ personal information including names, social security numbers, and emails were not included in the data sets. Furthermore, we noticed that some of the entries in the dataset contain no entries, suggesting that the participants have the freedom to decline to answer a particular question should they feel uncomfortable sharing that information to the public.\n",
    "For these reasons, we believe that the information presented in this dataset was obtained with consent of the participating individuals and that the datasets acquired were voluntary.\n",
    "\n",
    "In our data sets, there may be certain biases since there were definitely more males than females, more people who have less dependents, more educated people, and people who are not self-employed who got higher loan approval rates. This indicates that there may have been an unrealistic sampling of the population or the data collected was inaccurate. Furthermore, since the dataset does not include any information about the participants’ ethnicity, we have no idea if the data is biased towards a particular ethnic group or may have excluded certain minority group(s). Additionally, the dataset has no information regarding the location of each participant other than urban, rural, or semiurban, so we don’t know if the dataset is equally collected across America or if it’s biased towards particular states.\n",
    "\n",
    "We believe that there are most likely not many issues related to our topic area as Kaggle collects publicly available data. But if there were issues and other sampling biases we identify during our analysis, we would address them in our analysis as we present them in our project.  For example, if we visualize our data and we notice that a certain group(s) have a significantly higher value than others for a particular feature, then we can focus only on that group and determine whether that particular group has a much higher sample size than the others or there is an outlier within that group. Another way we could resolve this issue during the analysis is to use resampling methods such as bootstrapping, or we could reorganize the data in a way that each group has roughly equal sample size.\n"
   ]
  },
  {
   "cell_type": "markdown",
   "metadata": {},
   "source": [
    "# Team Expectations "
   ]
  },
  {
   "cell_type": "markdown",
   "metadata": {},
   "source": [
    "\n",
    "* *I expect all the team members to cooperate and contribute equally to the project and not have one or more people do all the work.*\n",
    "* *I also expect the team members to be respectful to each other, regardless of race, religion, beliefs, sexual orientation, etc..*\n",
    "* *We will also communicate through Discord and potentially email.*\n",
    "* *I expect all team members to participate and share ideas throughout the meeting times.*"
   ]
  },
  {
   "cell_type": "markdown",
   "metadata": {},
   "source": [
    "# Project Timeline Proposal"
   ]
  },
  {
   "cell_type": "markdown",
   "metadata": {},
   "source": [
    "\n",
    "| Meeting Date  | Meeting Time| Completed Before Meeting  | Discuss at Meeting |\n",
    "|---|---|---|---|\n",
    "| 10/31  |  2 PM | Read through, form expectations, and brainstorm topics/questions  | Determine best form of communication, decide on final project topic, hypothesis, and begin background research | \n",
    "| 11/1  |  8 PM |  Complete assigned parts of project proposal; discuss ethical and privacy concerns regarding our dataset; formulate a hypothesis | Discuss ideal dataset(s), ethics and privacy, and finalize project proposal as a group | \n",
    "| 11/6  | 8 PM  | Data: Import and wrangle; EDA  | Continue wrangling data from dataset   |\n",
    "| 11/13  | 8 PM  | Data: Import and wrangle; EDA | Review/Edit wrangling/EDA; Discuss Analysis Plan and Complete Project Checkpoint #1   |\n",
    "| 11/20  | 8 PM  | Finalize wrangling/EDA; Start on Analysis  | Discuss/edit analysis |\n",
    "| 11/29  | 8 PM  | Finalize wrangling/EDA; Continue Analysis | Complete Project Checkpoint #2 |\n",
    "| 12/1   | 8 PM  | Complete analysis; Draft results/conclusion/discussion | Discuss/edit full project |\n",
    "| 12/13  | Before 11:59 PM  | Record and edit final project video | Turn in Final Project & Group Project Surveys |"
   ]
  },
  {
   "cell_type": "markdown",
   "metadata": {},
   "source": []
  }
 ],
 "metadata": {
  "kernelspec": {
   "display_name": "python3",
   "language": "python",
   "name": "python3"
  }
 },
 "nbformat": 4,
 "nbformat_minor": 2
}
